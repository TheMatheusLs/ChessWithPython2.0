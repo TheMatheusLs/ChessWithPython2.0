{
  "cells": [
    {
      "cell_type": "markdown",
      "metadata": {
        "id": "view-in-github",
        "colab_type": "text"
      },
      "source": [
        "<a href=\"https://colab.research.google.com/github/TheMatheusLs/ChessWithPython2.0/blob/master/1_Teste_de_hiperpar%C3%A2metros.ipynb\" target=\"_parent\"><img src=\"https://colab.research.google.com/assets/colab-badge.svg\" alt=\"Open In Colab\"/></a>"
      ]
    },
    {
      "cell_type": "markdown",
      "metadata": {
        "id": "tjgQgD5bElRD"
      },
      "source": [
        "# Preparação dos Dados"
      ]
    },
    {
      "cell_type": "code",
      "execution_count": null,
      "metadata": {
        "id": "pMMho4LMElRH"
      },
      "outputs": [],
      "source": [
        "import numpy as np\n",
        "import pandas as pd\n",
        "\n"
      ]
    },
    {
      "cell_type": "code",
      "execution_count": null,
      "metadata": {
        "id": "uaHqD_t4ElRI",
        "outputId": "718c8510-20b0-4355-99ea-c9d847291722"
      },
      "outputs": [
        {
          "data": {
            "text/plain": [
              "(946789, 258)"
            ]
          },
          "execution_count": 3,
          "metadata": {},
          "output_type": "execute_result"
        }
      ],
      "source": [
        "n_slots = 128 # Número de slots do espectro elástico\n",
        "\n",
        "# Cria o nome para as colunas\n",
        "columns = [\"nReq\"]\n",
        "columns.extend([f\"in_{i}\" for i in range(n_slots)])\n",
        "columns.extend([\"OUT\"])\n",
        "columns.extend([f\"out_{i}\" for i in range(n_slots)])\n",
        "\n",
        "# Cria um dataframe com os nomes das colunas\n",
        "df = pd.read_csv(\"rn_database.csv\", delimiter =\";\", names=columns, index_col=False)\n",
        "\n",
        "df.shape"
      ]
    },
    {
      "cell_type": "code",
      "execution_count": null,
      "metadata": {
        "id": "EQ28AAOgElRJ",
        "outputId": "bdd72538-7a40-41fa-b85c-65a7a687a732"
      },
      "outputs": [
        {
          "data": {
            "text/plain": [
              "(946789, 258)"
            ]
          },
          "execution_count": 4,
          "metadata": {},
          "output_type": "execute_result"
        }
      ],
      "source": [
        "df.shape"
      ]
    },
    {
      "cell_type": "code",
      "execution_count": null,
      "metadata": {
        "id": "0h1iySrjElRK",
        "outputId": "7372606e-79ef-43b7-ef38-0e76c31c7342"
      },
      "outputs": [
        {
          "data": {
            "text/plain": [
              "(946789, 129)"
            ]
          },
          "execution_count": 5,
          "metadata": {},
          "output_type": "execute_result"
        }
      ],
      "source": [
        "# Separa os dados de entrada em uma array do numpy\n",
        "inC = [\"nReq\"]\n",
        "inC.extend([f\"in_{i}\" for i in range(n_slots)])\n",
        "input = df[inC].to_numpy()\n",
        "input.shape"
      ]
    },
    {
      "cell_type": "code",
      "execution_count": null,
      "metadata": {
        "id": "7eAxHhgXElRK",
        "outputId": "6df8d1f9-cbe2-45a8-a6fc-f722720893a4"
      },
      "outputs": [
        {
          "data": {
            "text/plain": [
              "(946789, 128)"
            ]
          },
          "execution_count": 6,
          "metadata": {},
          "output_type": "execute_result"
        }
      ],
      "source": [
        "# Separa os dados de saída bruta em uma array do numpy\n",
        "outC = [f\"out_{i}\" for i in range(n_slots)]\n",
        "output = df[outC].to_numpy()\n",
        "output.shape"
      ]
    },
    {
      "cell_type": "markdown",
      "metadata": {
        "id": "P0RnkTDnElRK"
      },
      "source": [
        "Entrada:"
      ]
    },
    {
      "cell_type": "code",
      "execution_count": null,
      "metadata": {
        "id": "bqm5edmXElRL",
        "outputId": "ad785632-84ac-4c5c-85e9-802ceb33197d"
      },
      "outputs": [
        {
          "data": {
            "text/plain": [
              "array([3, 3, 3, 2, 2, 2, 2, 2, 2, 2, 2, 2, 1, 1, 1, 1, 1, 2, 3, 2, 2, 2,\n",
              "       2, 0, 0, 2, 2, 2, 1, 2, 2, 1, 1, 1, 1, 1, 1, 1, 1, 1, 1, 1, 1, 1,\n",
              "       1, 1, 1, 1, 1, 1, 1, 1, 1, 1, 0, 0, 1, 1, 1, 1, 1, 1, 1, 2, 2, 1,\n",
              "       2, 2, 1, 1, 1, 1, 1, 3, 3, 3, 2, 2, 2, 2, 2, 1, 0, 0, 0, 1, 1, 1,\n",
              "       1, 1, 1, 0, 0, 0, 0, 0, 0, 0, 0, 0, 1, 2, 2, 2, 2, 2, 1, 0, 0, 0,\n",
              "       0, 0, 1, 1, 0, 0, 0, 0, 1, 1, 1, 1, 1, 1, 0, 0, 0, 0, 0],\n",
              "      dtype=int64)"
            ]
          },
          "execution_count": 7,
          "metadata": {},
          "output_type": "execute_result"
        }
      ],
      "source": [
        "input[1000]"
      ]
    },
    {
      "cell_type": "markdown",
      "metadata": {
        "id": "sXnjr1fZElRL"
      },
      "source": [
        "Saída Original:"
      ]
    },
    {
      "cell_type": "code",
      "execution_count": null,
      "metadata": {
        "id": "eFhBLaJPElRL",
        "outputId": "4414ffe7-03d4-4e5e-8ec2-569ae1c4d691"
      },
      "outputs": [
        {
          "data": {
            "text/plain": [
              "array([3, 3, 2, 2, 2, 2, 2, 2, 2, 2, 2, 1, 1, 1, 1, 1, 2, 3, 2, 2, 2, 2,\n",
              "       0, 0, 2, 2, 2, 1, 2, 2, 1, 1, 1, 1, 1, 1, 1, 1, 1, 1, 1, 1, 1, 1,\n",
              "       1, 1, 1, 1, 1, 1, 1, 1, 1, 0, 0, 1, 1, 1, 1, 1, 1, 1, 2, 2, 1, 2,\n",
              "       2, 1, 1, 1, 1, 1, 3, 3, 3, 2, 2, 2, 2, 2, 1, 1, 1, 1, 1, 1, 1, 1,\n",
              "       1, 1, 0, 0, 0, 0, 0, 0, 0, 0, 0, 1, 2, 2, 2, 2, 2, 1, 0, 0, 0, 0,\n",
              "       0, 1, 1, 0, 0, 0, 0, 1, 1, 1, 1, 1, 1, 0, 0, 0, 0, 0], dtype=int64)"
            ]
          },
          "execution_count": 8,
          "metadata": {},
          "output_type": "execute_result"
        }
      ],
      "source": [
        "output[1000]"
      ]
    },
    {
      "cell_type": "markdown",
      "metadata": {
        "id": "J-Y0qdHeElRL"
      },
      "source": [
        "Realiza o procedimento de limpeza dos dados de saída.\n",
        "\n",
        "Subtrai a saída pela entrada, assim, o dados de saída ficarão em binário"
      ]
    },
    {
      "cell_type": "code",
      "execution_count": null,
      "metadata": {
        "id": "mlRH9eJiElRM"
      },
      "outputs": [],
      "source": [
        "# Clean output\n",
        "\n",
        "aux = []\n",
        "\n",
        "for i in range(input.shape[0]):\n",
        "    aux.append(output[i] - input[i][1::])\n",
        "outputClean = np.array(aux)"
      ]
    },
    {
      "cell_type": "markdown",
      "metadata": {
        "id": "-U6zFqtpElRM"
      },
      "source": [
        "Saída após o processamento:"
      ]
    },
    {
      "cell_type": "code",
      "execution_count": null,
      "metadata": {
        "id": "Gn3Crx9DElRM",
        "outputId": "7d8d6cc4-3e93-46f2-d8ec-68a43f6f6178"
      },
      "outputs": [
        {
          "data": {
            "text/plain": [
              "array([0, 0, 0, 0, 0, 0, 0, 0, 0, 0, 0, 0, 0, 0, 0, 0, 0, 0, 0, 0, 0, 0,\n",
              "       0, 0, 0, 0, 0, 0, 0, 0, 0, 0, 0, 0, 0, 0, 0, 0, 0, 0, 0, 0, 0, 0,\n",
              "       0, 0, 0, 0, 0, 0, 0, 0, 0, 0, 0, 0, 0, 0, 0, 0, 0, 0, 0, 0, 0, 0,\n",
              "       0, 0, 0, 0, 0, 0, 0, 0, 0, 0, 0, 0, 0, 0, 0, 1, 1, 1, 0, 0, 0, 0,\n",
              "       0, 0, 0, 0, 0, 0, 0, 0, 0, 0, 0, 0, 0, 0, 0, 0, 0, 0, 0, 0, 0, 0,\n",
              "       0, 0, 0, 0, 0, 0, 0, 0, 0, 0, 0, 0, 0, 0, 0, 0, 0, 0], dtype=int64)"
            ]
          },
          "execution_count": 10,
          "metadata": {},
          "output_type": "execute_result"
        }
      ],
      "source": [
        "outputClean[1000]"
      ]
    },
    {
      "cell_type": "markdown",
      "metadata": {
        "id": "rh8V4rc4ElRN"
      },
      "source": [
        "# Preparação da Rede Neural"
      ]
    },
    {
      "cell_type": "code",
      "execution_count": null,
      "metadata": {
        "id": "tQqYc4NUElRN",
        "outputId": "3589163a-7f50-402e-bb3a-ff2f41259863"
      },
      "outputs": [
        {
          "name": "stdout",
          "output_type": "stream",
          "text": [
            "Rodando na cpu\n"
          ]
        }
      ],
      "source": [
        "import torch\n",
        "import torch.nn as nn\n",
        "\n",
        "device = \"cuda\" if torch.cuda.is_available() else \"cpu\"\n",
        "print(f\"Rodando na {device}\")\n",
        "\n",
        "class NetBinarySimple(nn.Module):\n",
        "    def __init__(self):\n",
        "        super(NetBinarySimple, self).__init__()\n",
        "        self.fc1 = nn.Linear(129, 256)\n",
        "        self.fc2 = nn.Linear(256, 128)\n",
        "        self.sigmoid = nn.Sigmoid()\n",
        "\n",
        "    def forward(self, x):\n",
        "        x = self.fc1(x)\n",
        "        x = torch.relu(x)\n",
        "        x = self.fc2(x)\n",
        "        x = self.sigmoid(x)\n",
        "        return x"
      ]
    },
    {
      "cell_type": "code",
      "execution_count": null,
      "metadata": {
        "id": "bI_U8wSZElRN",
        "outputId": "c54f970a-9124-4931-ef97-7e3eb80fe2f7"
      },
      "outputs": [
        {
          "name": "stdout",
          "output_type": "stream",
          "text": [
            "False\n"
          ]
        }
      ],
      "source": [
        "import torch\n",
        "print(torch.cuda.is_available())"
      ]
    },
    {
      "cell_type": "code",
      "execution_count": null,
      "metadata": {
        "id": "zE43qqulElRO"
      },
      "outputs": [],
      "source": [
        "NetBinarySimpleModel = NetBinarySimple().to(device)"
      ]
    },
    {
      "cell_type": "code",
      "execution_count": null,
      "metadata": {
        "id": "YWg6LSb2ElRO"
      },
      "outputs": [],
      "source": [
        "from torch.utils.data import Dataset, DataLoader\n",
        "\n",
        "class MyDatasetFF(Dataset):\n",
        "    def __init__(self, inputs, labels):\n",
        "        self.inputs = torch.from_numpy(inputs).float()\n",
        "        self.labels = torch.from_numpy(labels).float()\n",
        "\n",
        "    def __len__(self):\n",
        "        return len(self.inputs)\n",
        "\n",
        "    def __getitem__(self, idx):\n",
        "        return self.inputs[idx], self.labels[idx]\n",
        "    \n",
        "# Create a dataset and a dataloader\n",
        "datasetFF = MyDatasetFF(input, outputClean)\n",
        "\n",
        "dataloader = DataLoader(datasetFF, batch_size=32, shuffle=True)\n",
        "\n",
        "# Define a loss function and an optimizer\n",
        "criterion = nn.BCELoss()\n",
        "optimizer = torch.optim.Adam(NetBinarySimpleModel.parameters())"
      ]
    },
    {
      "cell_type": "code",
      "execution_count": null,
      "metadata": {
        "id": "yETg14UiElRP",
        "outputId": "48a686a5-49c6-495d-af69-14b72ee436ac"
      },
      "outputs": [
        {
          "name": "stdout",
          "output_type": "stream",
          "text": [
            "Epoch 1, Loss: 0.0499420166015625\n",
            "Epoch 2, Loss: 0.034125588834285736\n",
            "Epoch 3, Loss: 0.015199622139334679\n",
            "Epoch 4, Loss: 0.01624082587659359\n",
            "Epoch 5, Loss: 0.008938159793615341\n",
            "Epoch 6, Loss: 0.011499809101223946\n",
            "Epoch 7, Loss: 0.01095719262957573\n",
            "Epoch 8, Loss: 0.009315535426139832\n",
            "Epoch 9, Loss: 0.030405286699533463\n",
            "Epoch 10, Loss: 0.01123095117509365\n",
            "Epoch 11, Loss: 0.016398005187511444\n",
            "Epoch 12, Loss: 0.03483835980296135\n",
            "Epoch 13, Loss: 0.02133520506322384\n",
            "Epoch 14, Loss: 0.029620125889778137\n",
            "Epoch 15, Loss: 0.011968830600380898\n",
            "Epoch 16, Loss: 0.019264955073595047\n",
            "Epoch 17, Loss: 0.00269039417617023\n",
            "Epoch 18, Loss: 0.011167623102664948\n",
            "Epoch 19, Loss: 0.043889328837394714\n",
            "Epoch 20, Loss: 0.006043624132871628\n"
          ]
        }
      ],
      "source": [
        "# Train the model\n",
        "for epoch in range(20):\n",
        "    for inputs, labels in dataloader:\n",
        "        optimizer.zero_grad()\n",
        "        outputs = NetBinarySimpleModel(inputs)\n",
        "        loss = criterion(outputs, labels)\n",
        "        loss.backward()\n",
        "        optimizer.step()\n",
        "    print(f\"Epoch {epoch + 1}, Loss: {loss.item()}\")"
      ]
    },
    {
      "cell_type": "markdown",
      "metadata": {
        "id": "Tk7k2m8hElRP"
      },
      "source": [
        "## Visualização do retorno do modelo"
      ]
    },
    {
      "cell_type": "markdown",
      "metadata": {
        "id": "lpZHsYEOElRP"
      },
      "source": [
        "Entrada dos dados"
      ]
    },
    {
      "cell_type": "code",
      "execution_count": null,
      "metadata": {
        "id": "9SjJtJ7BElRP",
        "outputId": "0eea3fa4-1101-4fe7-df5f-cca74d6b9e4c"
      },
      "outputs": [
        {
          "data": {
            "text/plain": [
              "array([2, 2, 2, 1, 1, 1, 0, 2, 2, 2, 1, 1, 1, 0, 0, 0, 0, 0, 0, 0, 0, 0,\n",
              "       0, 0, 0, 0, 0, 0, 0, 0, 0, 0, 0, 0, 0, 0, 0, 0, 0, 0, 0, 0, 0, 0,\n",
              "       0, 0, 0, 0, 0, 0, 0, 0, 0, 0, 0, 0, 0, 0, 0, 0, 0, 0, 0, 0, 0, 0,\n",
              "       0, 0, 0, 0, 0, 0, 0, 0, 0, 0, 0, 0, 0, 0, 0, 0, 0, 0, 0, 0, 0, 0,\n",
              "       0, 0, 0, 0, 0, 0, 0, 0, 0, 0, 0, 0, 0, 0, 0, 0, 0, 0, 0, 0, 0, 0,\n",
              "       0, 0, 0, 0, 0, 0, 0, 0, 0, 0, 0, 0, 0, 0, 0, 0, 0, 0, 0],\n",
              "      dtype=int64)"
            ]
          },
          "execution_count": 27,
          "metadata": {},
          "output_type": "execute_result"
        }
      ],
      "source": [
        "req = 50\n",
        "t1 = input[req]\n",
        "t1"
      ]
    },
    {
      "cell_type": "markdown",
      "metadata": {
        "id": "YO8sI2FqElRQ"
      },
      "source": [
        "Saída esperada dos dados"
      ]
    },
    {
      "cell_type": "code",
      "execution_count": null,
      "metadata": {
        "id": "9xk5kMDZElRQ",
        "outputId": "ae294b4f-7678-4b5d-e6f0-8dbe2250d90e"
      },
      "outputs": [
        {
          "data": {
            "text/plain": [
              "array([0, 0, 0, 0, 0, 0, 0, 0, 0, 0, 0, 0, 1, 1, 0, 0, 0, 0, 0, 0, 0, 0,\n",
              "       0, 0, 0, 0, 0, 0, 0, 0, 0, 0, 0, 0, 0, 0, 0, 0, 0, 0, 0, 0, 0, 0,\n",
              "       0, 0, 0, 0, 0, 0, 0, 0, 0, 0, 0, 0, 0, 0, 0, 0, 0, 0, 0, 0, 0, 0,\n",
              "       0, 0, 0, 0, 0, 0, 0, 0, 0, 0, 0, 0, 0, 0, 0, 0, 0, 0, 0, 0, 0, 0,\n",
              "       0, 0, 0, 0, 0, 0, 0, 0, 0, 0, 0, 0, 0, 0, 0, 0, 0, 0, 0, 0, 0, 0,\n",
              "       0, 0, 0, 0, 0, 0, 0, 0, 0, 0, 0, 0, 0, 0, 0, 0, 0, 0], dtype=int64)"
            ]
          },
          "execution_count": 28,
          "metadata": {},
          "output_type": "execute_result"
        }
      ],
      "source": [
        "outputClean[req]"
      ]
    },
    {
      "cell_type": "markdown",
      "metadata": {
        "id": "SRnatHM7ElRQ"
      },
      "source": [
        "Saída da rede neural após o tratamento"
      ]
    },
    {
      "cell_type": "code",
      "execution_count": null,
      "metadata": {
        "id": "9TCg-K_AElRQ",
        "outputId": "f1e330c5-e47d-49a5-b213-ba5db4c45323"
      },
      "outputs": [
        {
          "data": {
            "text/plain": [
              "array([0., 0., 0., 0., 0., 0., 0., 0., 0., 0., 0., 0., 1., 1., 0., 0., 0.,\n",
              "       0., 0., 0., 0., 0., 0., 0., 0., 0., 0., 0., 0., 0., 0., 0., 0., 0.,\n",
              "       0., 0., 0., 0., 0., 0., 0., 0., 0., 0., 0., 0., 0., 0., 0., 0., 0.,\n",
              "       0., 0., 0., 0., 0., 0., 0., 0., 0., 0., 0., 0., 0., 0., 0., 0., 0.,\n",
              "       0., 0., 0., 0., 0., 0., 0., 0., 0., 0., 0., 0., 0., 0., 0., 0., 0.,\n",
              "       0., 0., 0., 0., 0., 0., 0., 0., 0., 0., 0., 0., 0., 0., 0., 0., 0.,\n",
              "       0., 0., 0., 0., 0., 0., 0., 0., 0., 0., 0., 0., 0., 0., 0., 0., 0.,\n",
              "       0., 0., 0., 0., 0., 0., 0., 0., 0.], dtype=float32)"
            ]
          },
          "execution_count": 30,
          "metadata": {},
          "output_type": "execute_result"
        }
      ],
      "source": [
        "s2 = np.round(NetBinarySimpleModel(torch.Tensor(t1)).detach().numpy())\n",
        "s2"
      ]
    },
    {
      "cell_type": "markdown",
      "metadata": {
        "id": "J6PFkwqJElRR"
      },
      "source": [
        "Subtraindo a saída da rede neural com o saída esperada podemos observar a ocorrência do número de erros por slots. Como após os subtrações os valores podem assumir -1, 0 e 1, faremos o módulo dele. Visto que -1 e 1 são erros."
      ]
    },
    {
      "cell_type": "code",
      "execution_count": null,
      "metadata": {
        "id": "0js-16-jElRR",
        "outputId": "283a6b72-72cb-45cf-b485-eda740f03bfe"
      },
      "outputs": [
        {
          "data": {
            "text/plain": [
              "0.0"
            ]
          },
          "execution_count": 31,
          "metadata": {},
          "output_type": "execute_result"
        }
      ],
      "source": [
        "qtdErr = np.sum(np.abs(s2 - outputClean[req]))\n",
        "qtdErr"
      ]
    },
    {
      "cell_type": "markdown",
      "metadata": {
        "id": "HXFiwx8NElRR"
      },
      "source": [
        "Ou seja, para a requisição acima, não houveram erros.\n",
        "\n",
        "Realizando a análise para todas as requisições. Se separando os dados em número de ocorrência de erros, teremos:"
      ]
    },
    {
      "cell_type": "code",
      "execution_count": null,
      "metadata": {
        "id": "W20DO-rBElRR",
        "outputId": "f97396a4-37ce-4b73-fd5e-014e4ca9413e"
      },
      "outputs": [
        {
          "data": {
            "text/plain": [
              "array([0., 0., 0., ..., 0., 0., 0.])"
            ]
          },
          "execution_count": 35,
          "metadata": {},
          "output_type": "execute_result"
        }
      ],
      "source": [
        "numReqs = input.shape[0]\n",
        "arrErr = np.zeros(numReqs)\n",
        "arrErr\n",
        "\n",
        "for r in range(numReqs):\n",
        "    inp = input[r]\n",
        "    out = np.round(NetBinarySimpleModel(torch.Tensor(inp)).detach().numpy())\n",
        "\n",
        "    err = np.sum(np.abs(outputClean[r] - out))\n",
        "\n",
        "    arrErr[r] = err\n",
        "\n",
        "arrErr"
      ]
    },
    {
      "cell_type": "code",
      "execution_count": null,
      "metadata": {
        "id": "3DSs2bnKElRS",
        "outputId": "c3a103b4-9ea6-443b-b6aa-2a73b1819c11"
      },
      "outputs": [
        {
          "data": {
            "text/plain": [
              "{0.0: 713947,\n",
              " 1.0: 132110,\n",
              " 2.0: 51480,\n",
              " 3.0: 24186,\n",
              " 4.0: 11625,\n",
              " 6.0: 3143,\n",
              " 5.0: 5888,\n",
              " 7.0: 1630,\n",
              " 8.0: 1024,\n",
              " 9.0: 684,\n",
              " 11.0: 315,\n",
              " 10.0: 457,\n",
              " 12.0: 219,\n",
              " 13.0: 48,\n",
              " 14.0: 16,\n",
              " 15.0: 8,\n",
              " 16.0: 6,\n",
              " 18.0: 2,\n",
              " 17.0: 1}"
            ]
          },
          "execution_count": 42,
          "metadata": {},
          "output_type": "execute_result"
        }
      ],
      "source": [
        "import collections\n",
        "\n",
        "dict(collections.Counter(arrErr))"
      ]
    },
    {
      "cell_type": "code",
      "execution_count": null,
      "metadata": {
        "id": "_pswmT7PElRS",
        "outputId": "b4d1e53e-bd13-4a6c-9a52-c22b1f356148"
      },
      "outputs": [
        {
          "data": {
            "text/plain": [
              "0.24592807901232483"
            ]
          },
          "execution_count": 43,
          "metadata": {},
          "output_type": "execute_result"
        }
      ],
      "source": [
        "errPercent = (numReqs - _[0.0]) / numReqs\n",
        "errPercent"
      ]
    },
    {
      "cell_type": "markdown",
      "metadata": {
        "id": "-kYbFetpElRS"
      },
      "source": [
        "Ou seja, após o treinamento (sem validação cruzada) de 20 épocas houverão 24% de requisições erradas neste conjunto de dados.\n",
        "\n",
        "Vamos treinar mais 80 épocas para completar 100 e analisar se os resultados evoluem."
      ]
    },
    {
      "cell_type": "code",
      "execution_count": null,
      "metadata": {
        "id": "UewUh9jlElRS",
        "outputId": "776223a9-53b2-4628-f7df-ea653158d68e"
      },
      "outputs": [
        {
          "name": "stdout",
          "output_type": "stream",
          "text": [
            "Epoch 21, Loss: 0.0008457716321572661\n",
            "Epoch 22, Loss: 0.01574346050620079\n",
            "Epoch 23, Loss: 0.00701555609703064\n",
            "Epoch 24, Loss: 0.0006948796799406409\n",
            "Epoch 25, Loss: 0.0072281197644770145\n",
            "Epoch 26, Loss: 0.020708926022052765\n",
            "Epoch 27, Loss: 0.012293537147343159\n",
            "Epoch 28, Loss: 0.010215168818831444\n",
            "Epoch 29, Loss: 0.004975388757884502\n",
            "Epoch 30, Loss: 0.010087254457175732\n",
            "Epoch 31, Loss: 0.0025553246960043907\n",
            "Epoch 32, Loss: 0.008060634136199951\n",
            "Epoch 33, Loss: 0.0031817734707146883\n",
            "Epoch 34, Loss: 0.013920003548264503\n",
            "Epoch 35, Loss: 0.010460039600729942\n",
            "Epoch 36, Loss: 0.00454371701925993\n",
            "Epoch 37, Loss: 0.005126320756971836\n",
            "Epoch 38, Loss: 0.005375952459871769\n",
            "Epoch 39, Loss: 0.017175432294607162\n",
            "Epoch 40, Loss: 0.013311115093529224\n"
          ]
        }
      ],
      "source": [
        "# Train the model\n",
        "for epoch in range(20):\n",
        "    for inputs, labels in dataloader:\n",
        "        optimizer.zero_grad()\n",
        "        outputs = NetBinarySimpleModel(inputs)\n",
        "        loss = criterion(outputs, labels)\n",
        "        loss.backward()\n",
        "        optimizer.step()\n",
        "    print(f\"Epoch {epoch +21}, Loss: {loss.item()}\")"
      ]
    },
    {
      "cell_type": "markdown",
      "metadata": {
        "id": "fZGjKOpeElRT"
      },
      "source": [
        "Verificando a ocorrência de erros novamente"
      ]
    },
    {
      "cell_type": "code",
      "execution_count": null,
      "metadata": {
        "id": "E2QA9M7mElRT",
        "outputId": "9f281c7c-03ed-49cf-f909-b53795c0d52e"
      },
      "outputs": [
        {
          "data": {
            "text/plain": [
              "array([0., 0., 0., ..., 2., 0., 0.])"
            ]
          },
          "execution_count": 46,
          "metadata": {},
          "output_type": "execute_result"
        }
      ],
      "source": [
        "numReqs = input.shape[0]\n",
        "arrErr2 = np.zeros(numReqs)\n",
        "arrErr2\n",
        "\n",
        "for r in range(numReqs):\n",
        "    inp = input[r]\n",
        "    out = np.round(NetBinarySimpleModel(torch.Tensor(inp)).detach().numpy())\n",
        "\n",
        "    err = np.sum(np.abs(outputClean[r] - out))\n",
        "\n",
        "    arrErr2[r] = err\n",
        "\n",
        "arrErr2"
      ]
    },
    {
      "cell_type": "code",
      "execution_count": null,
      "metadata": {
        "id": "zOs1f7RpElRT",
        "outputId": "70c9742f-ca53-4c09-dceb-272613e6e393"
      },
      "outputs": [
        {
          "data": {
            "text/plain": [
              "{0.0: 755916,\n",
              " 2.0: 44162,\n",
              " 1.0: 112025,\n",
              " 3.0: 18229,\n",
              " 4.0: 7865,\n",
              " 6.0: 2214,\n",
              " 5.0: 3879,\n",
              " 8.0: 587,\n",
              " 7.0: 891,\n",
              " 9.0: 406,\n",
              " 11.0: 190,\n",
              " 10.0: 299,\n",
              " 12.0: 106,\n",
              " 13.0: 12,\n",
              " 14.0: 6,\n",
              " 15.0: 1,\n",
              " 16.0: 1}"
            ]
          },
          "execution_count": 52,
          "metadata": {},
          "output_type": "execute_result"
        }
      ],
      "source": [
        "d2 = dict(collections.Counter(arrErr2))\n",
        "d2 "
      ]
    },
    {
      "cell_type": "code",
      "execution_count": null,
      "metadata": {
        "id": "ItcPAVNrElRU",
        "outputId": "eddb3b7b-f5b5-4c0c-960b-32115a391e2c"
      },
      "outputs": [
        {
          "data": {
            "text/plain": [
              "0.20160035657363995"
            ]
          },
          "execution_count": 53,
          "metadata": {},
          "output_type": "execute_result"
        }
      ],
      "source": [
        "errPercent = (numReqs - d2[0.0]) / numReqs\n",
        "errPercent"
      ]
    },
    {
      "cell_type": "markdown",
      "metadata": {
        "id": "1TVV3abEElRU"
      },
      "source": [
        "Não houve variação significativa no resultado"
      ]
    },
    {
      "cell_type": "code",
      "execution_count": null,
      "metadata": {
        "id": "O7hmn8ttElRU",
        "outputId": "878ca47c-f2f0-4ad3-e606-d0de2dab7fb2"
      },
      "outputs": [
        {
          "name": "stdout",
          "output_type": "stream",
          "text": [
            "Epoch 41, Loss: 0.005657064262777567\n",
            "Epoch 42, Loss: 0.010488779284060001\n",
            "Epoch 43, Loss: 0.008289593271911144\n",
            "Epoch 44, Loss: 0.0028080942574888468\n",
            "Epoch 45, Loss: 0.012593844905495644\n",
            "Epoch 46, Loss: 0.009315289556980133\n",
            "Epoch 47, Loss: 0.031193461269140244\n",
            "Epoch 48, Loss: 0.008986910805106163\n",
            "Epoch 49, Loss: 0.011592714115977287\n",
            "Epoch 50, Loss: 0.002814812818542123\n",
            "Epoch 51, Loss: 0.00020223479077685624\n",
            "Epoch 52, Loss: 0.004518668167293072\n",
            "Epoch 53, Loss: 0.008927787654101849\n",
            "Epoch 54, Loss: 0.0010110127041116357\n",
            "Epoch 55, Loss: 0.02909809909760952\n",
            "Epoch 56, Loss: 0.0035059438087046146\n",
            "Epoch 57, Loss: 0.027458157390356064\n",
            "Epoch 58, Loss: 0.0033214292488992214\n",
            "Epoch 59, Loss: 0.0015481984009966254\n",
            "Epoch 60, Loss: 0.005059326998889446\n",
            "Epoch 61, Loss: 0.006688252091407776\n",
            "Epoch 62, Loss: 0.0028999364003539085\n",
            "Epoch 63, Loss: 0.010339212603867054\n",
            "Epoch 64, Loss: 0.0010419224854558706\n",
            "Epoch 65, Loss: 0.02473708800971508\n",
            "Epoch 66, Loss: 0.030963856726884842\n",
            "Epoch 67, Loss: 0.004282609559595585\n",
            "Epoch 68, Loss: 0.0008453063783235848\n",
            "Epoch 69, Loss: 0.0023247620556503534\n",
            "Epoch 70, Loss: 0.001054106862284243\n",
            "Epoch 71, Loss: 0.0061509860679507256\n",
            "Epoch 72, Loss: 0.04710651934146881\n",
            "Epoch 73, Loss: 0.010234986431896687\n",
            "Epoch 74, Loss: 0.000305769091937691\n",
            "Epoch 75, Loss: 0.00730799650773406\n",
            "Epoch 76, Loss: 0.00014055502833798528\n",
            "Epoch 77, Loss: 0.0028911693952977657\n",
            "Epoch 78, Loss: 0.006291677244007587\n",
            "Epoch 79, Loss: 0.0011318365577608347\n",
            "Epoch 80, Loss: 0.001429846277460456\n",
            "Epoch 81, Loss: 0.001554169924929738\n",
            "Epoch 82, Loss: 0.0038905993569642305\n",
            "Epoch 83, Loss: 0.0037889652885496616\n",
            "Epoch 84, Loss: 0.005055726505815983\n",
            "Epoch 85, Loss: 0.00019648105080705136\n",
            "Epoch 86, Loss: 0.009595093317329884\n",
            "Epoch 87, Loss: 0.0008822154486551881\n",
            "Epoch 88, Loss: 0.00020350926206447184\n",
            "Epoch 89, Loss: 0.010465623810887337\n",
            "Epoch 90, Loss: 0.0009279816295020282\n",
            "Epoch 91, Loss: 0.0017467975849285722\n",
            "Epoch 92, Loss: 0.005506204906851053\n",
            "Epoch 93, Loss: 0.015350175090134144\n",
            "Epoch 94, Loss: 0.00011219673615414649\n",
            "Epoch 95, Loss: 7.47390222386457e-05\n",
            "Epoch 96, Loss: 0.011238222010433674\n",
            "Epoch 97, Loss: 0.0011362346122041345\n",
            "Epoch 98, Loss: 0.0029349783435463905\n",
            "Epoch 99, Loss: 0.00010362871398683637\n",
            "Epoch 100, Loss: 0.02307387813925743\n"
          ]
        }
      ],
      "source": [
        "# Train the model\n",
        "for epoch in range(60):\n",
        "    for inputs, labels in dataloader:\n",
        "        optimizer.zero_grad()\n",
        "        outputs = NetBinarySimpleModel(inputs)\n",
        "        loss = criterion(outputs, labels)\n",
        "        loss.backward()\n",
        "        optimizer.step()\n",
        "    print(f\"Epoch {epoch +41}, Loss: {loss.item()}\")"
      ]
    },
    {
      "cell_type": "code",
      "execution_count": null,
      "metadata": {
        "id": "tYoFe1MXElRU",
        "outputId": "a8c5118c-81a9-4ad5-f4d2-eac5bc1b8fa2"
      },
      "outputs": [
        {
          "data": {
            "text/plain": [
              "array([0., 0., 0., ..., 0., 0., 0.])"
            ]
          },
          "execution_count": 50,
          "metadata": {},
          "output_type": "execute_result"
        }
      ],
      "source": [
        "numReqs = input.shape[0]\n",
        "arrErr3 = np.zeros(numReqs)\n",
        "arrErr3\n",
        "\n",
        "for r in range(numReqs):\n",
        "    inp = input[r]\n",
        "    out = np.round(NetBinarySimpleModel(torch.Tensor(inp)).detach().numpy())\n",
        "\n",
        "    err = np.sum(np.abs(outputClean[r] - out))\n",
        "\n",
        "    arrErr3[r] = err\n",
        "\n",
        "arrErr3"
      ]
    },
    {
      "cell_type": "code",
      "execution_count": null,
      "metadata": {
        "id": "Mns4FMC6ElRV",
        "outputId": "016b7664-adce-45ad-ef7c-676b21d0c0a6"
      },
      "outputs": [
        {
          "data": {
            "text/plain": [
              "{0.0: 827322,\n",
              " 1.0: 75234,\n",
              " 2.0: 24715,\n",
              " 3.0: 10639,\n",
              " 7.0: 477,\n",
              " 6.0: 1040,\n",
              " 4.0: 4555,\n",
              " 5.0: 1966,\n",
              " 9.0: 219,\n",
              " 8.0: 287,\n",
              " 11.0: 111,\n",
              " 13.0: 6,\n",
              " 12.0: 60,\n",
              " 10.0: 155,\n",
              " 14.0: 2,\n",
              " 15.0: 1}"
            ]
          },
          "execution_count": 54,
          "metadata": {},
          "output_type": "execute_result"
        }
      ],
      "source": [
        "d3 = dict(collections.Counter(arrErr3))\n",
        "d3"
      ]
    },
    {
      "cell_type": "code",
      "execution_count": null,
      "metadata": {
        "id": "UnE485dfElRV",
        "outputId": "3f28dc92-baec-4795-b4fd-fd15698fa62d"
      },
      "outputs": [
        {
          "data": {
            "text/plain": [
              "0.1261812293974687"
            ]
          },
          "execution_count": 55,
          "metadata": {},
          "output_type": "execute_result"
        }
      ],
      "source": [
        "errPercent = (numReqs - d3[0.0]) / numReqs\n",
        "errPercent"
      ]
    },
    {
      "cell_type": "markdown",
      "metadata": {
        "id": "AYyu7ILRElRV"
      },
      "source": [
        "Houve uma boa evolução ao final de 100 épocas. Espera-se que com mais treinamento (de preferência cruzado) o modelo evolua melhor. \n",
        "\n",
        "É importante investigar os resultados para observar se esse montante de erros estão acontecendo no primeiro slots de alocação, visto ele ser o mais importante do espectro de saída.\n",
        "\n",
        "Essa análise vai trazer uma visão da aplicação do modelo em substição da heurística."
      ]
    },
    {
      "cell_type": "code",
      "execution_count": null,
      "metadata": {
        "id": "Z8EoRIXAElRW"
      },
      "outputs": [],
      "source": [
        "# Save the model\n",
        "torch.save({\n",
        "            'epoch': 100,\n",
        "            'model_state_dict': NetBinarySimpleModel.state_dict(),\n",
        "            'optimizer_state_dict': optimizer.state_dict(),\n",
        "            'loss': criterion,\n",
        "            }, 'model_treined2.pth')\n"
      ]
    }
  ],
  "metadata": {
    "kernelspec": {
      "display_name": "envPyTorch",
      "language": "python",
      "name": "python3"
    },
    "language_info": {
      "codemirror_mode": {
        "name": "ipython",
        "version": 3
      },
      "file_extension": ".py",
      "mimetype": "text/x-python",
      "name": "python",
      "nbconvert_exporter": "python",
      "pygments_lexer": "ipython3",
      "version": "3.8.16"
    },
    "orig_nbformat": 4,
    "vscode": {
      "interpreter": {
        "hash": "0ac4a5c794221102a3d3c1416cc4b1e45a1c86a323b99cf196c7ec22b6c01462"
      }
    },
    "colab": {
      "provenance": [],
      "include_colab_link": true
    }
  },
  "nbformat": 4,
  "nbformat_minor": 0
}